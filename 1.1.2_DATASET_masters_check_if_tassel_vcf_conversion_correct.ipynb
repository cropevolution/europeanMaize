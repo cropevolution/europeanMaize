{
 "cells": [
  {
   "cell_type": "markdown",
   "id": "e11195a8",
   "metadata": {},
   "source": [
    "## **1.1.2_DATASET_masters_check_if_tassel_vcf_conversion_correct.ipynb**"
   ]
  },
  {
   "cell_type": "markdown",
   "id": "abe44d97",
   "metadata": {},
   "source": [
    "### GOALS of this script:\n",
    "* check if the conversion of Unterseer_2016.vcf file into HapMap files is correct by copying rows from the .vcf into the HapMap\n",
    "* check one row allel column equal to row calls (IUPAC nucleotide code)"
   ]
  },
  {
   "cell_type": "code",
   "execution_count": 2,
   "id": "84e635af",
   "metadata": {},
   "outputs": [],
   "source": [
    "import gzip\n",
    "import allel\n",
    "import pandas as pd\n",
    "import numpy as np\n",
    "import tskit\n",
    "import tsinfer\n",
    "import sys\n",
    "import json\n",
    "import csv\n",
    "from IPython.display import SVG\n",
    "from IPython.display import HTML\n",
    "from collections import Counter\n",
    "import matplotlib.pyplot as plt\n",
    "import seaborn as sns\n",
    "from openpyxl import Workbook\n",
    "from progressbar import ProgressBar\n",
    "sns.set_style('white')\n",
    "sns.set_style('ticks')"
   ]
  },
  {
   "cell_type": "markdown",
   "id": "11a84629",
   "metadata": {},
   "source": [
    "## **Read in all dataset files as hapmap format**"
   ]
  },
  {
   "cell_type": "markdown",
   "id": "5c9c22c8",
   "metadata": {},
   "source": [
    "### *Read in hapmap Unterseer_2016 files*"
   ]
  },
  {
   "cell_type": "code",
   "execution_count": 4,
   "id": "fe9a7d4f",
   "metadata": {},
   "outputs": [
    {
     "data": {
      "text/html": [
       "<div>\n",
       "<style scoped>\n",
       "    .dataframe tbody tr th:only-of-type {\n",
       "        vertical-align: middle;\n",
       "    }\n",
       "\n",
       "    .dataframe tbody tr th {\n",
       "        vertical-align: top;\n",
       "    }\n",
       "\n",
       "    .dataframe thead th {\n",
       "        text-align: right;\n",
       "    }\n",
       "</style>\n",
       "<table border=\"1\" class=\"dataframe\">\n",
       "  <thead>\n",
       "    <tr style=\"text-align: right;\">\n",
       "      <th></th>\n",
       "      <th>rs#</th>\n",
       "      <th>alleles</th>\n",
       "      <th>chrom</th>\n",
       "      <th>pos</th>\n",
       "      <th>strand</th>\n",
       "      <th>assembly#</th>\n",
       "      <th>center</th>\n",
       "      <th>protLSID</th>\n",
       "      <th>assayLSID</th>\n",
       "      <th>panelLSID</th>\n",
       "      <th>...</th>\n",
       "      <th>WA.14</th>\n",
       "      <th>WA.15</th>\n",
       "      <th>WA.16</th>\n",
       "      <th>WA.17</th>\n",
       "      <th>WA.18</th>\n",
       "      <th>WA.19</th>\n",
       "      <th>WA.20</th>\n",
       "      <th>WA.21</th>\n",
       "      <th>WA.22</th>\n",
       "      <th>WA.23</th>\n",
       "    </tr>\n",
       "  </thead>\n",
       "  <tbody>\n",
       "    <tr>\n",
       "      <th>0</th>\n",
       "      <td>ZmSYNBREED_10000_129_2</td>\n",
       "      <td>T/C</td>\n",
       "      <td>1</td>\n",
       "      <td>2179</td>\n",
       "      <td>+</td>\n",
       "      <td>NaN</td>\n",
       "      <td>NaN</td>\n",
       "      <td>NaN</td>\n",
       "      <td>NaN</td>\n",
       "      <td>NaN</td>\n",
       "      <td>...</td>\n",
       "      <td>Y</td>\n",
       "      <td>T</td>\n",
       "      <td>T</td>\n",
       "      <td>T</td>\n",
       "      <td>Y</td>\n",
       "      <td>T</td>\n",
       "      <td>T</td>\n",
       "      <td>T</td>\n",
       "      <td>T</td>\n",
       "      <td>T</td>\n",
       "    </tr>\n",
       "    <tr>\n",
       "      <th>1</th>\n",
       "      <td>ZmSYNBREED_10000_164_2</td>\n",
       "      <td>C/T</td>\n",
       "      <td>1</td>\n",
       "      <td>3279</td>\n",
       "      <td>+</td>\n",
       "      <td>NaN</td>\n",
       "      <td>NaN</td>\n",
       "      <td>NaN</td>\n",
       "      <td>NaN</td>\n",
       "      <td>NaN</td>\n",
       "      <td>...</td>\n",
       "      <td>C</td>\n",
       "      <td>T</td>\n",
       "      <td>Y</td>\n",
       "      <td>Y</td>\n",
       "      <td>Y</td>\n",
       "      <td>Y</td>\n",
       "      <td>C</td>\n",
       "      <td>Y</td>\n",
       "      <td>T</td>\n",
       "      <td>T</td>\n",
       "    </tr>\n",
       "    <tr>\n",
       "      <th>2</th>\n",
       "      <td>SYN83_2</td>\n",
       "      <td>G/A</td>\n",
       "      <td>1</td>\n",
       "      <td>3498</td>\n",
       "      <td>+</td>\n",
       "      <td>NaN</td>\n",
       "      <td>NaN</td>\n",
       "      <td>NaN</td>\n",
       "      <td>NaN</td>\n",
       "      <td>NaN</td>\n",
       "      <td>...</td>\n",
       "      <td>G</td>\n",
       "      <td>A</td>\n",
       "      <td>R</td>\n",
       "      <td>R</td>\n",
       "      <td>R</td>\n",
       "      <td>R</td>\n",
       "      <td>G</td>\n",
       "      <td>R</td>\n",
       "      <td>A</td>\n",
       "      <td>A</td>\n",
       "    </tr>\n",
       "    <tr>\n",
       "      <th>3</th>\n",
       "      <td>ZmSYNBREED_10000_181_2</td>\n",
       "      <td>C/T</td>\n",
       "      <td>1</td>\n",
       "      <td>4140</td>\n",
       "      <td>+</td>\n",
       "      <td>NaN</td>\n",
       "      <td>NaN</td>\n",
       "      <td>NaN</td>\n",
       "      <td>NaN</td>\n",
       "      <td>NaN</td>\n",
       "      <td>...</td>\n",
       "      <td>C</td>\n",
       "      <td>C</td>\n",
       "      <td>C</td>\n",
       "      <td>C</td>\n",
       "      <td>C</td>\n",
       "      <td>C</td>\n",
       "      <td>C</td>\n",
       "      <td>C</td>\n",
       "      <td>C</td>\n",
       "      <td>C</td>\n",
       "    </tr>\n",
       "    <tr>\n",
       "      <th>4</th>\n",
       "      <td>ZmSYNBREED_10000_196_2</td>\n",
       "      <td>C/G</td>\n",
       "      <td>1</td>\n",
       "      <td>4817</td>\n",
       "      <td>+</td>\n",
       "      <td>NaN</td>\n",
       "      <td>NaN</td>\n",
       "      <td>NaN</td>\n",
       "      <td>NaN</td>\n",
       "      <td>NaN</td>\n",
       "      <td>...</td>\n",
       "      <td>C</td>\n",
       "      <td>C</td>\n",
       "      <td>C</td>\n",
       "      <td>C</td>\n",
       "      <td>C</td>\n",
       "      <td>C</td>\n",
       "      <td>C</td>\n",
       "      <td>C</td>\n",
       "      <td>C</td>\n",
       "      <td>C</td>\n",
       "    </tr>\n",
       "    <tr>\n",
       "      <th>...</th>\n",
       "      <td>...</td>\n",
       "      <td>...</td>\n",
       "      <td>...</td>\n",
       "      <td>...</td>\n",
       "      <td>...</td>\n",
       "      <td>...</td>\n",
       "      <td>...</td>\n",
       "      <td>...</td>\n",
       "      <td>...</td>\n",
       "      <td>...</td>\n",
       "      <td>...</td>\n",
       "      <td>...</td>\n",
       "      <td>...</td>\n",
       "      <td>...</td>\n",
       "      <td>...</td>\n",
       "      <td>...</td>\n",
       "      <td>...</td>\n",
       "      <td>...</td>\n",
       "      <td>...</td>\n",
       "      <td>...</td>\n",
       "      <td>...</td>\n",
       "    </tr>\n",
       "    <tr>\n",
       "      <th>615879</th>\n",
       "      <td>PZE-110111453_2</td>\n",
       "      <td>C/T</td>\n",
       "      <td>10</td>\n",
       "      <td>150113255</td>\n",
       "      <td>+</td>\n",
       "      <td>NaN</td>\n",
       "      <td>NaN</td>\n",
       "      <td>NaN</td>\n",
       "      <td>NaN</td>\n",
       "      <td>NaN</td>\n",
       "      <td>...</td>\n",
       "      <td>C</td>\n",
       "      <td>C</td>\n",
       "      <td>C</td>\n",
       "      <td>C</td>\n",
       "      <td>C</td>\n",
       "      <td>C</td>\n",
       "      <td>C</td>\n",
       "      <td>C</td>\n",
       "      <td>C</td>\n",
       "      <td>C</td>\n",
       "    </tr>\n",
       "    <tr>\n",
       "      <th>615880</th>\n",
       "      <td>ZmSYNBREED_23543_720_2</td>\n",
       "      <td>G/A</td>\n",
       "      <td>10</td>\n",
       "      <td>150116206</td>\n",
       "      <td>+</td>\n",
       "      <td>NaN</td>\n",
       "      <td>NaN</td>\n",
       "      <td>NaN</td>\n",
       "      <td>NaN</td>\n",
       "      <td>NaN</td>\n",
       "      <td>...</td>\n",
       "      <td>A</td>\n",
       "      <td>A</td>\n",
       "      <td>R</td>\n",
       "      <td>A</td>\n",
       "      <td>A</td>\n",
       "      <td>A</td>\n",
       "      <td>R</td>\n",
       "      <td>A</td>\n",
       "      <td>R</td>\n",
       "      <td>A</td>\n",
       "    </tr>\n",
       "    <tr>\n",
       "      <th>615881</th>\n",
       "      <td>ZmSYNBREED_23545_660_2</td>\n",
       "      <td>G/T</td>\n",
       "      <td>10</td>\n",
       "      <td>150164014</td>\n",
       "      <td>+</td>\n",
       "      <td>NaN</td>\n",
       "      <td>NaN</td>\n",
       "      <td>NaN</td>\n",
       "      <td>NaN</td>\n",
       "      <td>NaN</td>\n",
       "      <td>...</td>\n",
       "      <td>G</td>\n",
       "      <td>G</td>\n",
       "      <td>G</td>\n",
       "      <td>G</td>\n",
       "      <td>G</td>\n",
       "      <td>G</td>\n",
       "      <td>G</td>\n",
       "      <td>G</td>\n",
       "      <td>G</td>\n",
       "      <td>G</td>\n",
       "    </tr>\n",
       "    <tr>\n",
       "      <th>615882</th>\n",
       "      <td>ZmSYNBREED_23546_255_2</td>\n",
       "      <td>T/G</td>\n",
       "      <td>10</td>\n",
       "      <td>150172580</td>\n",
       "      <td>+</td>\n",
       "      <td>NaN</td>\n",
       "      <td>NaN</td>\n",
       "      <td>NaN</td>\n",
       "      <td>NaN</td>\n",
       "      <td>NaN</td>\n",
       "      <td>...</td>\n",
       "      <td>T</td>\n",
       "      <td>T</td>\n",
       "      <td>T</td>\n",
       "      <td>T</td>\n",
       "      <td>T</td>\n",
       "      <td>T</td>\n",
       "      <td>T</td>\n",
       "      <td>T</td>\n",
       "      <td>T</td>\n",
       "      <td>T</td>\n",
       "    </tr>\n",
       "    <tr>\n",
       "      <th>615883</th>\n",
       "      <td>PZE-110111485_2</td>\n",
       "      <td>A/G</td>\n",
       "      <td>10</td>\n",
       "      <td>150177341</td>\n",
       "      <td>+</td>\n",
       "      <td>NaN</td>\n",
       "      <td>NaN</td>\n",
       "      <td>NaN</td>\n",
       "      <td>NaN</td>\n",
       "      <td>NaN</td>\n",
       "      <td>...</td>\n",
       "      <td>A</td>\n",
       "      <td>A</td>\n",
       "      <td>A</td>\n",
       "      <td>A</td>\n",
       "      <td>A</td>\n",
       "      <td>A</td>\n",
       "      <td>A</td>\n",
       "      <td>A</td>\n",
       "      <td>A</td>\n",
       "      <td>A</td>\n",
       "    </tr>\n",
       "  </tbody>\n",
       "</table>\n",
       "<p>615884 rows × 917 columns</p>\n",
       "</div>"
      ],
      "text/plain": [
       "                           rs# alleles  chrom        pos strand  assembly#  \\\n",
       "0       ZmSYNBREED_10000_129_2     T/C      1       2179      +        NaN   \n",
       "1       ZmSYNBREED_10000_164_2     C/T      1       3279      +        NaN   \n",
       "2                      SYN83_2     G/A      1       3498      +        NaN   \n",
       "3       ZmSYNBREED_10000_181_2     C/T      1       4140      +        NaN   \n",
       "4       ZmSYNBREED_10000_196_2     C/G      1       4817      +        NaN   \n",
       "...                        ...     ...    ...        ...    ...        ...   \n",
       "615879         PZE-110111453_2     C/T     10  150113255      +        NaN   \n",
       "615880  ZmSYNBREED_23543_720_2     G/A     10  150116206      +        NaN   \n",
       "615881  ZmSYNBREED_23545_660_2     G/T     10  150164014      +        NaN   \n",
       "615882  ZmSYNBREED_23546_255_2     T/G     10  150172580      +        NaN   \n",
       "615883         PZE-110111485_2     A/G     10  150177341      +        NaN   \n",
       "\n",
       "        center  protLSID  assayLSID  panelLSID  ...  WA.14 WA.15 WA.16 WA.17  \\\n",
       "0          NaN       NaN        NaN        NaN  ...      Y     T     T     T   \n",
       "1          NaN       NaN        NaN        NaN  ...      C     T     Y     Y   \n",
       "2          NaN       NaN        NaN        NaN  ...      G     A     R     R   \n",
       "3          NaN       NaN        NaN        NaN  ...      C     C     C     C   \n",
       "4          NaN       NaN        NaN        NaN  ...      C     C     C     C   \n",
       "...        ...       ...        ...        ...  ...    ...   ...   ...   ...   \n",
       "615879     NaN       NaN        NaN        NaN  ...      C     C     C     C   \n",
       "615880     NaN       NaN        NaN        NaN  ...      A     A     R     A   \n",
       "615881     NaN       NaN        NaN        NaN  ...      G     G     G     G   \n",
       "615882     NaN       NaN        NaN        NaN  ...      T     T     T     T   \n",
       "615883     NaN       NaN        NaN        NaN  ...      A     A     A     A   \n",
       "\n",
       "       WA.18 WA.19 WA.20 WA.21 WA.22 WA.23  \n",
       "0          Y     T     T     T     T     T  \n",
       "1          Y     Y     C     Y     T     T  \n",
       "2          R     R     G     R     A     A  \n",
       "3          C     C     C     C     C     C  \n",
       "4          C     C     C     C     C     C  \n",
       "...      ...   ...   ...   ...   ...   ...  \n",
       "615879     C     C     C     C     C     C  \n",
       "615880     A     A     R     A     R     A  \n",
       "615881     G     G     G     G     G     G  \n",
       "615882     T     T     T     T     T     T  \n",
       "615883     A     A     A     A     A     A  \n",
       "\n",
       "[615884 rows x 917 columns]"
      ]
     },
     "execution_count": 4,
     "metadata": {},
     "output_type": "execute_result"
    }
   ],
   "source": [
    "unterseer_2016_landraces_hapmap=pd.read_csv(\"/Users/kschul38/Documents/tsinfer-project/data/2_processed/during_masters_europe_maize_dataset_600k/unterseer_2016_landraces_hapmap.hmp.txt\",sep=\"\\t\")\n",
    "unterseer_2016_landraces_hapmap"
   ]
  },
  {
   "cell_type": "code",
   "execution_count": null,
   "id": "bcb641d4",
   "metadata": {},
   "outputs": [],
   "source": [
    "unterseer_2016_elite_hapmap=pd.read_csv(\"/Users/kschul38/Documents/tsinfer-project/data/2_processed/europe_maize_dataset_600k/unterseer_2016_elite_hapmap.hmp.txt\",sep=\"\\t\")\n",
    "unterseer_2016_elite_hapmap"
   ]
  },
  {
   "cell_type": "markdown",
   "id": "097ec147",
   "metadata": {},
   "source": [
    "### **Read in duplicate hapmap files**"
   ]
  },
  {
   "cell_type": "markdown",
   "id": "80c2343e",
   "metadata": {},
   "source": [
    "test_unterseer_for_masters_elite=pd.read_csv(\"/Users/kschul38/Documents/Tassel_5.0/test_unterseer_for_master_elite.hmp.txt\",sep=\"\\t\")\n",
    "test_unterseer_for_masters_elite"
   ]
  },
  {
   "cell_type": "markdown",
   "id": "58da9314",
   "metadata": {},
   "source": [
    "test_unterseer_for_masters_landraces=pd.read_csv(\"/Users/kschul38/Documents/Tassel_5.0/test_unterseer_for_master_landraces.hmp.txt\",sep=\"\\t\")\n",
    "test_unterseer_for_masters_landraces"
   ]
  },
  {
   "cell_type": "markdown",
   "id": "bf708625",
   "metadata": {},
   "source": [
    "## **Read in all dataset files as .vcf format**"
   ]
  },
  {
   "cell_type": "markdown",
   "id": "f7fcf480",
   "metadata": {},
   "source": [
    "### *Read in Unterseer_2016 files*"
   ]
  },
  {
   "cell_type": "code",
   "execution_count": null,
   "id": "74fa4e10",
   "metadata": {},
   "outputs": [],
   "source": [
    "unterseer_2016_landraces_vcf= allel.read_vcf('/Users/kschul38/Documents/tsinfer-project/data/1_raw/5_Unterseer_2016/TUM-PLANTBREEDING_Maize600k_landraces.vcf',fields='*', log=sys.stdout)"
   ]
  },
  {
   "cell_type": "code",
   "execution_count": null,
   "id": "b88ff4e5",
   "metadata": {},
   "outputs": [],
   "source": [
    "unterseer_2016_elite_vcf= allel.read_vcf('/Users/kschul38/Documents/tsinfer-project/data/1_raw/5_Unterseer_2016/TUM-PLANTBREEDING_Maize600k_elitelines.vcf',fields='*', log=sys.stdout)"
   ]
  },
  {
   "cell_type": "code",
   "execution_count": null,
   "id": "79d18688",
   "metadata": {},
   "outputs": [],
   "source": [
    "sorted(unterseer_2016_landraces_vcf.keys())"
   ]
  },
  {
   "cell_type": "code",
   "execution_count": null,
   "id": "1c37db0f",
   "metadata": {},
   "outputs": [],
   "source": [
    "sorted(unterseer_2016_elite_vcf.keys())"
   ]
  },
  {
   "cell_type": "markdown",
   "id": "b5a10302",
   "metadata": {},
   "source": [
    "## **Get the relevant column from the .vcf file**"
   ]
  },
  {
   "cell_type": "markdown",
   "id": "bbb77f46",
   "metadata": {},
   "source": [
    "### *Get 600k array marker names*"
   ]
  },
  {
   "cell_type": "code",
   "execution_count": null,
   "id": "35b294c1",
   "metadata": {},
   "outputs": [],
   "source": [
    "axiom_marker_unterseer_2016_elite_vcf=unterseer_2016_elite_vcf['variants/AD']\n",
    "axiom_marker_unterseer_2016_landraces_vcf=unterseer_2016_landraces_vcf['variants/AD']"
   ]
  },
  {
   "cell_type": "code",
   "execution_count": null,
   "id": "677914c5",
   "metadata": {},
   "outputs": [],
   "source": [
    "print(axiom_marker_unterseer_2016_elite_vcf)\n",
    "print(len(axiom_marker_unterseer_2016_elite_vcf))\n",
    "print(axiom_marker_unterseer_2016_landraces_vcf)\n",
    "print(len(axiom_marker_unterseer_2016_landraces_vcf))"
   ]
  },
  {
   "cell_type": "code",
   "execution_count": null,
   "id": "eb37acca",
   "metadata": {},
   "outputs": [],
   "source": [
    "#compare the marker names between the hapmap files\n",
    "np.array_equal(axiom_marker_unterseer_2016_elite_vcf,axiom_marker_unterseer_2016_landraces_vcf)"
   ]
  },
  {
   "cell_type": "markdown",
   "id": "71bf981e",
   "metadata": {},
   "source": [
    "### *Get 600k array marker qualities*"
   ]
  },
  {
   "cell_type": "code",
   "execution_count": null,
   "id": "ae22b03d",
   "metadata": {},
   "outputs": [],
   "source": [
    "axiom_quality_marker_unterseer_2016_elite_vcf=unterseer_2016_elite_vcf['variants/CMT']\n",
    "axiom_quality_marker_unterseer_2016_landraces_vcf=unterseer_2016_landraces_vcf['variants/CMT']"
   ]
  },
  {
   "cell_type": "markdown",
   "id": "4f938832",
   "metadata": {},
   "source": [
    "* dosent make sense to compare because marker qualities are determined by the sample"
   ]
  },
  {
   "cell_type": "code",
   "execution_count": null,
   "id": "819ccb1c",
   "metadata": {},
   "outputs": [],
   "source": [
    "print(axiom_quality_marker_unterseer_2016_elite_vcf)\n",
    "print(len(axiom_quality_marker_unterseer_2016_elite_vcf))\n",
    "print(axiom_quality_marker_unterseer_2016_landraces_vcf)\n",
    "print(len(axiom_quality_marker_unterseer_2016_landraces_vcf))"
   ]
  },
  {
   "cell_type": "markdown",
   "id": "560312ce",
   "metadata": {},
   "source": [
    "### *Get 600k array marker positions*"
   ]
  },
  {
   "cell_type": "code",
   "execution_count": null,
   "id": "9c8c55e8",
   "metadata": {},
   "outputs": [],
   "source": [
    "pos_unterseer_2016_elite_vcf=unterseer_2016_elite_vcf[\"variants/POS\"]\n",
    "pos_unterseer_2016_landraces_vcf=unterseer_2016_landraces_vcf[\"variants/POS\"]"
   ]
  },
  {
   "cell_type": "code",
   "execution_count": null,
   "id": "05f009eb",
   "metadata": {},
   "outputs": [],
   "source": [
    "print(pos_unterseer_2016_elite_vcf)\n",
    "print(len(pos_unterseer_2016_elite_vcf))\n",
    "print(pos_unterseer_2016_landraces_vcf)\n",
    "print(len(pos_unterseer_2016_landraces_vcf))"
   ]
  },
  {
   "cell_type": "code",
   "execution_count": null,
   "id": "fa4aece9",
   "metadata": {},
   "outputs": [],
   "source": [
    "#compare the columns between Unterseer elite & landrace file\n",
    "np.array_equal(pos_unterseer_2016_elite_vcf,pos_unterseer_2016_landraces_vcf)"
   ]
  },
  {
   "cell_type": "markdown",
   "id": "85b4e6a7",
   "metadata": {},
   "source": [
    "### *Get reference allele column*"
   ]
  },
  {
   "cell_type": "code",
   "execution_count": null,
   "id": "a496607e",
   "metadata": {},
   "outputs": [],
   "source": [
    "ref_unterseer_2016_elite_vcf=unterseer_2016_elite_vcf[\"variants/REF\"]\n",
    "ref_unterseer_2016_landraces_vcf=unterseer_2016_landraces_vcf[\"variants/REF\"]"
   ]
  },
  {
   "cell_type": "code",
   "execution_count": null,
   "id": "3577064d",
   "metadata": {},
   "outputs": [],
   "source": [
    "print(ref_unterseer_2016_elite_vcf)\n",
    "print(len(ref_unterseer_2016_elite_vcf))\n",
    "print(ref_unterseer_2016_landraces_vcf)\n",
    "print(len(ref_unterseer_2016_landraces_vcf))"
   ]
  },
  {
   "cell_type": "code",
   "execution_count": null,
   "id": "52617fc8",
   "metadata": {},
   "outputs": [],
   "source": [
    "#compare the columns between Unterseer elite & landrace files\n",
    "np.array_equal(ref_unterseer_2016_elite_vcf,ref_unterseer_2016_landraces_vcf)"
   ]
  },
  {
   "cell_type": "markdown",
   "id": "922042d7",
   "metadata": {},
   "source": [
    "### *Get alternative allele column*"
   ]
  },
  {
   "cell_type": "code",
   "execution_count": null,
   "id": "390ef2a3",
   "metadata": {},
   "outputs": [],
   "source": [
    "alt_unterseer_2016_elite_vcf=unterseer_2016_elite_vcf[\"variants/ALT\"]\n",
    "alt_unterseer_2016_landraces_vcf=unterseer_2016_landraces_vcf[\"variants/ALT\"]"
   ]
  },
  {
   "cell_type": "code",
   "execution_count": null,
   "id": "282e37a5",
   "metadata": {},
   "outputs": [],
   "source": [
    "print(alt_unterseer_2016_elite_vcf)\n",
    "print(len(alt_unterseer_2016_elite_vcf))\n",
    "print(alt_unterseer_2016_landraces_vcf)\n",
    "print(len(alt_unterseer_2016_landraces_vcf))"
   ]
  },
  {
   "cell_type": "code",
   "execution_count": null,
   "id": "6e4475d9",
   "metadata": {},
   "outputs": [],
   "source": [
    "#compare the columns between Unterseer elite & landrace files\n",
    "np.array_equal(alt_unterseer_2016_elite_vcf,alt_unterseer_2016_landraces_vcf)"
   ]
  },
  {
   "cell_type": "markdown",
   "id": "3cdfb79e",
   "metadata": {},
   "source": [
    "### *Get the IDs*"
   ]
  },
  {
   "cell_type": "code",
   "execution_count": null,
   "id": "ff8c479f",
   "metadata": {},
   "outputs": [],
   "source": [
    "id_unterseer_2016_elite_vcf=unterseer_2016_elite_vcf[\"variants/ID\"]\n",
    "id_unterseer_2016_landraces_vcf=unterseer_2016_landraces_vcf[\"variants/ID\"]"
   ]
  },
  {
   "cell_type": "code",
   "execution_count": null,
   "id": "b9647048",
   "metadata": {},
   "outputs": [],
   "source": [
    "print(id_unterseer_2016_elite_vcf)\n",
    "print(len(id_unterseer_2016_elite_vcf))\n",
    "print(id_unterseer_2016_landraces_vcf)\n",
    "print(len(id_unterseer_2016_landraces_vcf))"
   ]
  },
  {
   "cell_type": "code",
   "execution_count": null,
   "id": "46e50e8a",
   "metadata": {},
   "outputs": [],
   "source": [
    "np.array_equal(id_unterseer_2016_elite_vcf,id_unterseer_2016_landraces_vcf)"
   ]
  },
  {
   "cell_type": "markdown",
   "id": "b6c3acc5",
   "metadata": {},
   "source": [
    "## **Make the comparisons between .vcf and .hmp.txt**"
   ]
  },
  {
   "cell_type": "markdown",
   "id": "0f980f3d",
   "metadata": {},
   "source": [
    "### *Get the hapmap columns*"
   ]
  },
  {
   "cell_type": "code",
   "execution_count": null,
   "id": "c0ebb565",
   "metadata": {},
   "outputs": [],
   "source": [
    "#get the hapmap columns \n",
    "print(unterseer_2016_elite_hapmap.columns)\n",
    "print(unterseer_2016_landraces_hapmap.columns)"
   ]
  },
  {
   "cell_type": "markdown",
   "id": "0ef84ab1",
   "metadata": {},
   "source": [
    "### *Get the IDs*"
   ]
  },
  {
   "cell_type": "code",
   "execution_count": null,
   "id": "ba23f9bd",
   "metadata": {},
   "outputs": [],
   "source": [
    "print(unterseer_2016_elite_hapmap[\"rs#\"])\n",
    "print(len(unterseer_2016_elite_hapmap[\"rs#\"]))\n",
    "print(unterseer_2016_landraces_hapmap[\"rs#\"])\n",
    "print(len(unterseer_2016_landraces_hapmap[\"rs#\"]))"
   ]
  },
  {
   "cell_type": "markdown",
   "id": "7725bd4f",
   "metadata": {},
   "source": [
    "### *Get the positions*"
   ]
  },
  {
   "cell_type": "code",
   "execution_count": null,
   "id": "6f5fadfb",
   "metadata": {},
   "outputs": [],
   "source": [
    "print(unterseer_2016_elite_hapmap[\"pos\"])\n",
    "print(len(unterseer_2016_elite_hapmap[\"pos\"]))\n",
    "print(unterseer_2016_landraces_hapmap[\"pos\"])\n",
    "print(len(unterseer_2016_landraces_hapmap[\"pos\"]))"
   ]
  },
  {
   "cell_type": "code",
   "execution_count": null,
   "id": "d48ccf19",
   "metadata": {},
   "outputs": [],
   "source": [
    "#compare the positions between the hapmap files\n",
    "np.array_equal(np.array(unterseer_2016_elite_hapmap[\"pos\"]),np.array(unterseer_2016_landraces_hapmap[\"pos\"]))"
   ]
  },
  {
   "cell_type": "code",
   "execution_count": null,
   "id": "17864861",
   "metadata": {},
   "outputs": [],
   "source": [
    "#compare the positions between the elite vcf file and the hapmap file \n",
    "np.array_equal(pos_unterseer_2016_elite_vcf,np.array(unterseer_2016_elite_hapmap[\"pos\"]))"
   ]
  },
  {
   "cell_type": "code",
   "execution_count": null,
   "id": "dd4c334d",
   "metadata": {},
   "outputs": [],
   "source": [
    "#compare the positions between the landraces vcf file and the hapmap file\n",
    "np.array_equal(pos_unterseer_2016_landraces_vcf,np.array(unterseer_2016_landraces_hapmap[\"pos\"]))"
   ]
  },
  {
   "cell_type": "markdown",
   "id": "c64f4574",
   "metadata": {},
   "source": [
    "### *Get the ID columns*"
   ]
  },
  {
   "cell_type": "code",
   "execution_count": null,
   "id": "f54ef707",
   "metadata": {},
   "outputs": [],
   "source": [
    "print(unterseer_2016_elite_hapmap[\"alleles\"])\n",
    "print(len(unterseer_2016_elite_hapmap[\"alleles\"]))\n",
    "print(unterseer_2016_landraces_hapmap[\"alleles\"])\n",
    "print(len(unterseer_2016_landraces_hapmap[\"alleles\"]))"
   ]
  },
  {
   "cell_type": "code",
   "execution_count": null,
   "id": "e4ad8b37",
   "metadata": {},
   "outputs": [],
   "source": [
    "unterseer_2016_landraces_hapmap[\"alleles\"].str.split(pat=\"/\")"
   ]
  },
  {
   "cell_type": "code",
   "execution_count": null,
   "id": "1fd558fd",
   "metadata": {},
   "outputs": [],
   "source": [
    "unterseer_2016_elite_hapmap[\"alleles\"].str.split(pat=\"/\")"
   ]
  },
  {
   "cell_type": "markdown",
   "id": "e7e9d415",
   "metadata": {},
   "source": [
    "## **Check suspicios row (last row) of the unterseer_2016_elite_hapmap**"
   ]
  },
  {
   "cell_type": "markdown",
   "id": "4b0a00ac",
   "metadata": {},
   "source": [
    "### *Check suspicios row (last row) of the unterseer_2016_elite_hapmap*"
   ]
  },
  {
   "cell_type": "markdown",
   "id": "a24c6e50",
   "metadata": {},
   "source": [
    "* why does the last line of the hapmap elite file just contain A in the allel colum?"
   ]
  },
  {
   "cell_type": "code",
   "execution_count": null,
   "id": "2e267af3",
   "metadata": {},
   "outputs": [],
   "source": [
    "only_IUPAC_calls_unterseer_2016_landraces=unterseer_2016_landraces_hapmap.iloc[:,16:]\n",
    "only_IUPAC_calls_unterseer_2016_landraces"
   ]
  },
  {
   "cell_type": "code",
   "execution_count": null,
   "id": "0806daaf",
   "metadata": {},
   "outputs": [],
   "source": [
    "last_row_unterseer_2016=only_IUPAC_calls_unterseer_2016_landraces[615883:]"
   ]
  },
  {
   "cell_type": "code",
   "execution_count": null,
   "id": "1f344949",
   "metadata": {},
   "outputs": [],
   "source": [
    "last_row_unterseer_2016_numpy=last_row_unterseer_2016.to_numpy().flatten()"
   ]
  },
  {
   "cell_type": "code",
   "execution_count": null,
   "id": "2dcbb062",
   "metadata": {},
   "outputs": [],
   "source": [
    "pd.unique(last_row_unterseer_2016_numpy) #N = any base, A = Adenine and R= Adenine/Guanine so fine "
   ]
  }
 ],
 "metadata": {
  "kernelspec": {
   "display_name": "Python 3",
   "language": "python",
   "name": "python3"
  },
  "language_info": {
   "codemirror_mode": {
    "name": "ipython",
    "version": 3
   },
   "file_extension": ".py",
   "mimetype": "text/x-python",
   "name": "python",
   "nbconvert_exporter": "python",
   "pygments_lexer": "ipython3",
   "version": "3.7.9"
  }
 },
 "nbformat": 4,
 "nbformat_minor": 5
}
